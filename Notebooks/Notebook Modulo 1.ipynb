{
 "cells": [
  {
   "cell_type": "code",
   "execution_count": 3,
   "metadata": {},
   "outputs": [
    {
     "name": "stdout",
     "output_type": "stream",
     "text": [
      "Hola Mundo\n",
      "8\n",
      "2022-02-13\n",
      "today's date is:2022-02-13\n",
      "Bienvenido al programa de OnBoarding\n",
      "Saludos:Daniela\n",
      "Calculadora\n",
      "54\n",
      "9\n"
     ]
    }
   ],
   "source": [
    "# impresion en pantalla print ('Hola desde la consola')\n",
    "\n",
    "print('Hola Mundo')\n",
    "\n",
    "# Tu turno, prueba el fragmento de código anterior\n",
    "sum = 1 + 3 # 3\n",
    "producto = sum * 2\n",
    "print(producto)\n",
    "\n",
    "# Declaramos la variable\n",
    "distancia_a_alfa_centauri = 4.367\n",
    "\n",
    "# Descubrimos su tipo de dato\n",
    "type(distancia_a_alfa_centauri)\n",
    "\n",
    "# Importamos la biblioteca \n",
    "from datetime import date\n",
    "\n",
    "# Obtenemos la fecha de hoy\n",
    "date.today()\n",
    "\n",
    "# Mostramos la fecha en la consola\n",
    "print(date.today())\n",
    "\n",
    "# Tu turno ejecuta el siguiente comando: print(\"Today's date is: \" + str(date.today()))\n",
    "\n",
    "print(\"today's date is:\" + str(date.today()))\n",
    "\n",
    "# Escribe tu código aquí\n",
    "print(\"Bienvenido al programa de OnBoarding\")\n",
    "name = input(\"Introduzca su nombre\")\n",
    "print(\"Saludos:\" + name)\n",
    "\n",
    "# Escribe tu código aquí\n",
    "\n",
    "\n",
    "print(\"Calculadora\")\n",
    "first_number = input(\"Primer Número: \")\n",
    "second_number = input(\"Segundo Número: \")\n",
    "print(first_number + second_number)\n",
    "\n",
    "# Escribe tu código aquí\n",
    "\n",
    "print(int(first_number) + int(second_number))"
   ]
  },
  {
   "cell_type": "code",
   "execution_count": 4,
   "metadata": {},
   "outputs": [
    {
     "name": "stdout",
     "output_type": "stream",
     "text": [
      "Today's date is: 2022-02-13\n",
      "11 parsec, is 35.877159999999996 lightyears\n"
     ]
    }
   ],
   "source": [
    "from datetime import date\n",
    "\n",
    "print(\"Today's date is: \" + (str(date.today())))\n",
    "\n",
    "parsec = 11\n",
    "\n",
    "lightyears = \n",
    "\n",
    "print(str(parsec) + \" parsec, is \" + str(lightyears) + \" lightyears\")"
   ]
  }
 ],
 "metadata": {
  "interpreter": {
   "hash": "ba7b3d1ed1d9abf4213ca0af7b2edd4434565f77b5fe0a547b487d990e5a1cba"
  },
  "kernelspec": {
   "display_name": "Python 3.10.2 64-bit",
   "language": "python",
   "name": "python3"
  },
  "language_info": {
   "codemirror_mode": {
    "name": "ipython",
    "version": 3
   },
   "file_extension": ".py",
   "mimetype": "text/x-python",
   "name": "python",
   "nbconvert_exporter": "python",
   "pygments_lexer": "ipython3",
   "version": "3.10.2"
  },
  "orig_nbformat": 4
 },
 "nbformat": 4,
 "nbformat_minor": 2
}
