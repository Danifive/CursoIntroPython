{
 "cells": [
  {
   "cell_type": "markdown",
   "metadata": {},
   "source": [
    "# Práctica: Ejercios de comprensión"
   ]
  },
  {
   "cell_type": "code",
   "execution_count": 3,
   "metadata": {},
   "outputs": [
    {
     "name": "stdout",
     "output_type": "stream",
     "text": [
      "42\n",
      "18\n",
      "660\n",
      "2.5\n",
      "17\n",
      "22\n",
      "1084\n",
      "1084\n",
      "24\n",
      "13\n",
      "12\n"
     ]
    }
   ],
   "source": [
    "answer = 30 + 12\n",
    "print(answer)\n",
    "\n",
    "difference = 30 - 12\n",
    "print(difference)\n",
    "\n",
    "product = 30 * 22\n",
    "print(product)\n",
    "\n",
    "quotient = 30 / 12\n",
    "print (quotient)\n",
    "\n",
    "seconds = 1042\n",
    "display_min = seconds // 60\n",
    "print(display_min)\n",
    "display_sec = seconds % 60\n",
    "print (display_sec)\n",
    "\n",
    "result_1 = 1032 + 26 * 2\n",
    "result_2 = 1032 + (26 * 2)\n",
    "\n",
    "print (result_1)\n",
    "print(result_2)\n",
    "\n",
    "print(round(24.5))\n",
    "\n",
    "from math import ceil, floor\n",
    "\n",
    "round_up = ceil(12.5)\n",
    "print(round_up)\n",
    "\n",
    "round_down = floor(12.5)\n",
    "print(round_down)\n",
    "\n"
   ]
  },
  {
   "cell_type": "markdown",
   "metadata": {},
   "source": [
    "# Katas ejercicios"
   ]
  },
  {
   "cell_type": "code",
   "execution_count": 8,
   "metadata": {},
   "outputs": [
    {
     "name": "stdout",
     "output_type": "stream",
     "text": [
      "Distancia en KM es:\n",
      "628949330\n",
      "Distancia en millas es: \n",
      "390577534\n"
     ]
    }
   ],
   "source": [
    "#variables para dos distancias KMS\n",
    "tierra = 149597870\n",
    "Jupiter = 778547200\n",
    "\n",
    "#Calcular la distancia entre planetas\n",
    "distancia_km = Jupiter - tierra\n",
    "print(\"Distancia en KM es:\")\n",
    "print(distancia_km)\n",
    "#KMS TO MILLAS \n",
    "millas = 0.621\n",
    "Distancia_millas = distancia_km * millas\n",
    "print(\"Distancia en millas es: \")\n",
    "print(round(Distancia_millas))\n"
   ]
  },
  {
   "cell_type": "markdown",
   "metadata": {},
   "source": [
    "#   Ejercicio 2"
   ]
  },
  {
   "cell_type": "code",
   "execution_count": 12,
   "metadata": {},
   "outputs": [
    {
     "name": "stdout",
     "output_type": "stream",
     "text": [
      "Estos son los km:\n",
      "300\n",
      "Distacia en millas:\n",
      "186.3\n"
     ]
    }
   ],
   "source": [
    "#almacenar las entradas del usuario\n",
    "\n",
    "primer_planet = input(\"Distancia del sol al primer planeta:\")\n",
    "segundo_planet = input(\"Distancia del sol al segundo planeta:\")\n",
    "\n",
    "primer_planet = int(primer_planet)\n",
    "segundo_planet = int(segundo_planet)\n",
    "\n",
    "distance_km = segundo_planet - primer_planet\n",
    "print (\"Estos son los km:\")\n",
    "print(distance_km)\n",
    "\n",
    "distance_Millas = 0.621\n",
    "distance_Mi = distance_km * distance_Millas\n",
    "print(\"Distacia en millas:\")\n",
    "print(distance_Mi)\n"
   ]
  }
 ],
 "metadata": {
  "interpreter": {
   "hash": "ba7b3d1ed1d9abf4213ca0af7b2edd4434565f77b5fe0a547b487d990e5a1cba"
  },
  "kernelspec": {
   "display_name": "Python 3.10.2 64-bit",
   "language": "python",
   "name": "python3"
  },
  "language_info": {
   "codemirror_mode": {
    "name": "ipython",
    "version": 3
   },
   "file_extension": ".py",
   "mimetype": "text/x-python",
   "name": "python",
   "nbconvert_exporter": "python",
   "pygments_lexer": "ipython3",
   "version": "3.10.2"
  },
  "orig_nbformat": 4
 },
 "nbformat": 4,
 "nbformat_minor": 2
}
