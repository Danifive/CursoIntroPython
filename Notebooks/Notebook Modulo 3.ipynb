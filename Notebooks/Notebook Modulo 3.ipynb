{
 "cells": [
  {
   "cell_type": "markdown",
   "metadata": {},
   "source": [
    "Práctica 1: Ejercios de comprensión"
   ]
  },
  {
   "cell_type": "code",
   "execution_count": 5,
   "metadata": {},
   "outputs": [
    {
     "name": "stdout",
     "output_type": "stream",
     "text": [
      "44\n",
      "a es mayor o igual que b\n"
     ]
    }
   ],
   "source": [
    "# Tip de práctica 1: Intenta ejecutarlo en un notebook.\n",
    "a = 97\n",
    "b = 55\n",
    "# test expression / expresión de prueba\n",
    "if a < b:\n",
    "    # statement to be run / instrucción a ejecutar\n",
    "    print(b)\n",
    "\n",
    "a = 24\n",
    "b = 44\n",
    "if a <= 24:\n",
    "    print(b)\n",
    "\n",
    "a = 93\n",
    "b = 27\n",
    "if a >= b:\n",
    "    print(\"a es mayor o igual que b\")\n",
    "elif a == b:\n",
    "    print(\"a es igual que b\")"
   ]
  },
  {
   "cell_type": "markdown",
   "metadata": {},
   "source": [
    "# Katas ejercicios"
   ]
  },
  {
   "cell_type": "code",
   "execution_count": 8,
   "metadata": {},
   "outputs": [
    {
     "name": "stdout",
     "output_type": "stream",
     "text": [
      "¡Peligro! ¡Asteroide acercandoce rapidamente\n",
      "¡Todo se ve bien\n",
      "Luz magica divisandose\n"
     ]
    }
   ],
   "source": [
    "# Añadir el código necesario para crear una variable que guarde la velocidad del asteroide.\n",
    "# Escribe una expresión de prueba para calcular si necesita una advertencia.\n",
    "# Agregue las instrucciones que se ejecutarán si la expresión de prueba es true o false.\n",
    "\n",
    "asteroide = 49\n",
    "\n",
    "if asteroide > 25:\n",
    "        print('¡Peligro! ¡Asteroide acercandoce rapidamente')\n",
    "else:\n",
    "    print('¡Sin peligro de asteroides')\n",
    "\n",
    "# Agrega el código para crear una variable para un asteroide que viaja a 19 km/s\n",
    "# Escribe varias expresiones de prueba para determinar si puedes ver el rayo de luz desde la tierra\n",
    "# Agrega las instrucciones que se ejecutarán si las expresiones de prueba son True o False\n",
    "\n",
    "asteroide = 19 \n",
    "if asteroide > 20:\n",
    "    print('Luz mágica en el cielo se llega a notar')\n",
    "else: \n",
    "    print('¡Todo se ve bien')\n",
    "\n",
    "# Agrega el código para crear nuevas variables para la velocidad y el tamaño del asteroide\n",
    "# Para probar el código, prueba con varias velocidades y tamaños\n",
    "# Escribe varias expresiones de prueba o combinaciones de expresiones de prueba para determinar qué mensaje se debe enviar a Tierra.\n",
    "\n",
    "vel_asteroide = 25\n",
    "tamano_asteroide = 40\n",
    "if vel_asteroide > 25 and tamano_asteroide > 25:\n",
    "    print ('Alerta, peligroso asteroide se divisa')\n",
    "elif vel_asteroide >= 20:\n",
    "    print('Luz magica divisandose')\n",
    "elif tamano_asteroide < 25:\n",
    "    print('Todo bien por ahora')\n",
    "else:\n",
    "    print('todo bien por ahora')"
   ]
  }
 ],
 "metadata": {
  "interpreter": {
   "hash": "ba7b3d1ed1d9abf4213ca0af7b2edd4434565f77b5fe0a547b487d990e5a1cba"
  },
  "kernelspec": {
   "display_name": "Python 3.10.2 64-bit",
   "language": "python",
   "name": "python3"
  },
  "language_info": {
   "codemirror_mode": {
    "name": "ipython",
    "version": 3
   },
   "file_extension": ".py",
   "mimetype": "text/x-python",
   "name": "python",
   "nbconvert_exporter": "python",
   "pygments_lexer": "ipython3",
   "version": "3.10.2"
  },
  "orig_nbformat": 4
 },
 "nbformat": 4,
 "nbformat_minor": 2
}
